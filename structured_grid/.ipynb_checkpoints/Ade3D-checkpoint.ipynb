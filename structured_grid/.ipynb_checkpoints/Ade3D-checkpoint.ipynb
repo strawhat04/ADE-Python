{
 "cells": [
  {
   "cell_type": "code",
   "execution_count": 1,
   "metadata": {},
   "outputs": [],
   "source": [
    "# from Solver import solver\n",
    "# from Meshing import struct_mesh\n",
    "# from BoundaryCondi import FinalMat\n",
    "import numpy as np"
   ]
  },
  {
   "cell_type": "code",
   "execution_count": 5,
   "metadata": {},
   "outputs": [
    {
     "name": "stdout",
     "output_type": "stream",
     "text": [
      "[[[ 0  1  2]\n",
      "  [ 3  4  5]\n",
      "  [ 6  7  8]]\n",
      "\n",
      " [[ 9 10 11]\n",
      "  [12 13 14]\n",
      "  [15 16 17]]\n",
      "\n",
      " [[18 19 20]\n",
      "  [21 22 23]\n",
      "  [24 25 26]]]\n",
      "[ 0  1  2  3  4  5  6  7  8  9 10 11 12 13 14 15 16 17 18 19 20 21 22 23\n",
      " 24 25 26]\n"
     ]
    }
   ],
   "source": [
    "if __name__=='__main__':\n",
    "    a=np.arange(24)\n",
    "    b=np.resize(a,(2,3,4))\n",
    "    print(b)\n",
    "    c=b.flatten()\n",
    "    print(c)\n",
    "#     dimensions=[3,3,3]\n",
    "#     mesh_elem=[7,7,7]|\n",
    "#     meshg=struct_mesh(dimensions,mesh_elem)\n",
    "#     meshg.generate_mesh()\n",
    "#     ap,aw,ae,ad,au,ab,af,ap0,b,c=FinalMat(meshg)\n",
    "#     sol=solver(ap,aw,ae,ad,au,ab,af,ap0,b,c)\n",
    "#     sol.solve()\n"
   ]
  },
  {
   "cell_type": "code",
   "execution_count": null,
   "metadata": {},
   "outputs": [],
   "source": []
  }
 ],
 "metadata": {
  "kernelspec": {
   "display_name": "Python 3",
   "language": "python",
   "name": "python3"
  },
  "language_info": {
   "codemirror_mode": {
    "name": "ipython",
    "version": 3
   },
   "file_extension": ".py",
   "mimetype": "text/x-python",
   "name": "python",
   "nbconvert_exporter": "python",
   "pygments_lexer": "ipython3",
   "version": "3.8.3"
  }
 },
 "nbformat": 4,
 "nbformat_minor": 4
}
